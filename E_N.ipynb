{
 "cells": [
  {
   "cell_type": "markdown",
   "id": "54e3eca7",
   "metadata": {},
   "source": [
    "The blow-up model of del Pezzo surfaces allows us to study the surface with linear algebra. In particular, we will use the $\\mathbf{E}_N$-lattice and its root system. This notebook is intended to demonstrate the calculation using SageMath.\n",
    "\n",
    "To begin with, we consider the lattice $I^{1,N} \\cong \\mathbb{Z}^{N+1}$, with the canonical basis $\\mathbf{k}=(-3,1,\\dots,1)$ and the bilinear form $\\operatorname{diag}(1,-1,\\dots,-1)$. "
   ]
  },
  {
   "cell_type": "code",
   "execution_count": null,
   "id": "d37e76fe",
   "metadata": {
    "vscode": {
     "languageId": "sage"
    }
   },
   "outputs": [],
   "source": [
    "from itertools import product\n",
    "\n",
    "class I_lattice:\n",
    "    def __init__(self, n):\n",
    "        self.dim = n+1\n",
    "        self.basis = [vector([1 if i == j else 0 for j in range(n)]) for i in range(self.dim)]\n",
    "        # create a bilinear form from the matrix diag(1,-1,-1,...,-1)\n",
    "        self.bilinear_form = matrix(ZZ, self.dim, self.dim, lambda i, j: 1 if i == j == 0 else (-1 if i == j else 0))\n",
    "        # Define the canonical class vector by (-3,1,1,...,1)\n",
    "        self.canonical_class_vector = vector([-3] + [1] * (self.dim - 1))\n",
    "    def __repr__(self):\n",
    "        return f\"I_{self.dim-1} lattice with basis {self.basis} and bilinear form {self.bilinear_form}\"\n",
    "    def inner_product(self, v1, v2):\n",
    "        return v1 * self.bilinear_form * v2\n",
    "    def square(self, v):\n",
    "        return self.inner_product(v, v)\n",
    "    def exceptional(self):\n",
    "        exceptions = []\n",
    "        # TODO : implement the search for exceptional vectors, similar to E_n_lattice.roots().\n",
    "I_n = I_lattice(6)  # Example for I_{6+1} lattice\n",
    "print(\"Dimension of I_6 lattice:\", I_n.dim)\n",
    "print(\"Basis of I_6 lattice:\", I_n.basis)\n",
    "print(\"Bilinear form of I_6 lattice:\\n\", I_n.bilinear_form)\n",
    "print(\"Canonical class vector of I_6 lattice:\", I_n.canonical_class_vector)\n",
    "print(\"Square of canonical class vector:\", I_n.square(I_n.canonical_class_vector))"
   ]
  },
  {
   "cell_type": "markdown",
   "id": "79296d27",
   "metadata": {},
   "source": [
    "The $\\mathbf{E}_N$-lattice is defined to be the orthogonal space of $\\mathbb{Z}\\langle \\mathbf{k} \\rangle$, whose basis can be given explicitly. We can also explicitly compute the root."
   ]
  },
  {
   "cell_type": "code",
   "execution_count": null,
   "id": "aeee26de",
   "metadata": {
    "vscode": {
     "languageId": "sage"
    }
   },
   "outputs": [],
   "source": [
    "# Define a class for the E_n lattice, with n as a parameter, inheriting from I_n_lattice\n",
    "\n",
    "def d_max(n):\n",
    "    if n >= 9:\n",
    "        return 0\n",
    "    val = (2*n)/(9-n)\n",
    "    if val < 0:\n",
    "        return 0\n",
    "    return int(sqrt(val))\n",
    "\n",
    "def find_root(N, d):\n",
    "    results = []\n",
    "    B = max(1, abs(d))\n",
    "    for m_tuple in product(range(-B, B+1), repeat=N):\n",
    "        if sum(m_tuple) == -3*d and sum(m**2 for m in m_tuple) == d**2 + 2:\n",
    "            results.append(vector([d] + list(m_tuple)))\n",
    "    return results\n",
    "\n",
    "class E_n_lattice(I_lattice):\n",
    "    def __init__(self, n):\n",
    "        super().__init__(n)\n",
    "        self.N = n\n",
    "        # Define the basis for E_n lattice by (1,-1,-1,-1,0,...,0) and (0,1,-1,0,...,0) etc.\n",
    "        self.canonical_basis = [vector([1, -1, -1,-1] + [0] * (self.dim - 4))]\n",
    "        for i in range(1, self.dim - 1):\n",
    "            vec = [0] * self.dim\n",
    "            vec[i] = 1\n",
    "            vec[i + 1] = -1\n",
    "            self.canonical_basis.append(vector(vec))\n",
    "    def __repr__(self):\n",
    "        return f\"E_{self.dim-1} lattice with basis {self.basis} and bilinear form {self.bilinear_form}\"\n",
    "    # Define a function that finds all roots (vectors of square -2) in the E_n lattice\n",
    "    def roots(self):\n",
    "        roots = []\n",
    "        # if N=9, there are infinitely many roots\n",
    "        if self.N == 9:\n",
    "            return \"infinity\"\n",
    "        # if N<3 or N>9, there are no roots\n",
    "        if self.N < 3 or self.N > 9:\n",
    "            return []\n",
    "        dmax = d_max(self.N)\n",
    "        for d in range(0, dmax+1):  # Only non-negative d by symmetry\n",
    "            new_roots = find_root(self.N, d)\n",
    "            roots.extend(new_roots)\n",
    "            if d != 0:  # Extend to the negative counterparts by extending -new_roots\n",
    "                roots.extend([-r for r in new_roots])\n",
    "        self.roots = roots\n",
    "        return roots\n",
    "\n",
    "for N in range(3,9):\n",
    "    E_N = E_n_lattice(N)\n",
    "    print(f\"There are {len(E_N.roots())} roots in the E_{N} lattice.\")"
   ]
  }
 ],
 "metadata": {
  "kernelspec": {
   "display_name": "SageMath 10.6",
   "language": "sage",
   "name": "sagemath"
  },
  "language_info": {
   "codemirror_mode": {
    "name": "ipython",
    "version": 3
   },
   "file_extension": ".py",
   "mimetype": "text/x-python",
   "name": "python",
   "nbconvert_exporter": "python",
   "pygments_lexer": "ipython3",
   "version": "3.12.11"
  }
 },
 "nbformat": 4,
 "nbformat_minor": 5
}
